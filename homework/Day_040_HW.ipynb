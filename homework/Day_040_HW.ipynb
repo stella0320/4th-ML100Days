{
 "cells": [
  {
   "cell_type": "markdown",
   "metadata": {},
   "source": [
    "## [作業重點]\n",
    "使用 Sklearn 中的 Lasso, Ridge 模型，來訓練各種資料集，務必了解送進去模型訓練的**資料型態**為何，也請了解模型中各項參數的意義。\n",
    "\n",
    "機器學習的模型非常多種，但要訓練的資料多半有固定的格式，確保你了解訓練資料的格式為何，這樣在應用新模型時，就能夠最快的上手開始訓練！"
   ]
  },
  {
   "cell_type": "markdown",
   "metadata": {},
   "source": [
    "## 練習時間\n",
    "試著使用 sklearn datasets 的其他資料集 (boston, ...)，來訓練自己的線性迴歸模型，並加上適當的正則化來觀察訓練情形。"
   ]
  },
  {
   "cell_type": "code",
   "execution_count": 3,
   "metadata": {},
   "outputs": [],
   "source": [
    "import numpy as np\n",
    "import pandas as pd\n",
    "import matplotlib.pyplot as plt\n",
    "from sklearn import datasets, linear_model\n",
    "from sklearn.model_selection import train_test_split\n",
    "from sklearn.metrics import mean_squared_error, r2_score"
   ]
  },
  {
   "cell_type": "code",
   "execution_count": 7,
   "metadata": {},
   "outputs": [],
   "source": [
    "boston = datasets.load_boston()\n",
    "data = pd.DataFrame(boston.data, columns = boston.feature_names)\n",
    "x_train, x_test, y_train, y_test = train_test_split(data, boston.target, test_size = 0.4, random_state = 100)"
   ]
  },
  {
   "cell_type": "code",
   "execution_count": 10,
   "metadata": {},
   "outputs": [
    {
     "name": "stdout",
     "output_type": "stream",
     "text": [
      "Coefficients:  [-3.40847186e-02  3.20342005e-02  7.64113794e-03  1.85079463e+00\n",
      " -1.18357083e+01  3.88469209e+00 -2.26356194e-02 -1.48137383e+00\n",
      "  2.90095762e-01 -1.72802434e-02 -9.73446191e-01  1.03192502e-02\n",
      " -4.50428563e-01]\n",
      "Mean squared error: 28.83\n"
     ]
    }
   ],
   "source": [
    "regression_model_boston = linear_model.LinearRegression(normalize = True)\n",
    "\n",
    "regression_model_boston.fit(x_train, y_train)\n",
    "\n",
    "y_pred = regression_model_boston.predict(x_test)\n",
    "\n",
    "print('Coefficients: ', regression_model_boston.coef_)\n",
    "print(\"Mean squared error: %.2f\" % mean_squared_error(y_test, y_pred))"
   ]
  },
  {
   "cell_type": "code",
   "execution_count": 15,
   "metadata": {},
   "outputs": [
    {
     "name": "stdout",
     "output_type": "stream",
     "text": [
      "Coefficients:  [-0.          0.03903396 -0.          0.         -0.          1.23625205\n",
      "  0.0051919  -0.71399716  0.2631316  -0.01999557 -0.70120621  0.00788944\n",
      " -0.66406975]\n",
      "Mean squared error: 33.81\n"
     ]
    }
   ],
   "source": [
    "losso_model_boston = linear_model.Lasso(alpha = 1)\n",
    "losso_model_boston.fit(x_train, y_train)\n",
    "y_pred = losso_model_boston.predict(x_test)\n",
    "print('Coefficients: ', losso_model_boston.coef_)\n",
    "print(\"Mean squared error: %.2f\" % mean_squared_error(y_test, y_pred))"
   ]
  },
  {
   "cell_type": "code",
   "execution_count": 17,
   "metadata": {},
   "outputs": [
    {
     "name": "stdout",
     "output_type": "stream",
     "text": [
      "Coefficients:  [-0.02818683  0.03344769 -0.02006649  1.76510038 -5.71204447  3.88448662\n",
      " -0.02820146 -1.3886176   0.27808199 -0.01798129 -0.90114119  0.01057742\n",
      " -0.45985697]\n",
      "Mean squared error: 29.56\n"
     ]
    }
   ],
   "source": [
    "# 建立一個線性回歸模型\n",
    "ridge = linear_model.Ridge(alpha=1.0)\n",
    "\n",
    "# 將訓練資料丟進去模型訓練\n",
    "ridge.fit(x_train, y_train)\n",
    "\n",
    "# 將測試資料丟進模型得到預測結果\n",
    "y_pred = ridge.predict(x_test)\n",
    "\n",
    "print('Coefficients: ', ridge.coef_)\n",
    "print(\"Mean squared error: %.2f\" % mean_squared_error(y_test, y_pred))"
   ]
  },
  {
   "cell_type": "code",
   "execution_count": null,
   "metadata": {},
   "outputs": [],
   "source": []
  }
 ],
 "metadata": {
  "kernelspec": {
   "display_name": "Python 3",
   "language": "python",
   "name": "python3"
  },
  "language_info": {
   "codemirror_mode": {
    "name": "ipython",
    "version": 3
   },
   "file_extension": ".py",
   "mimetype": "text/x-python",
   "name": "python",
   "nbconvert_exporter": "python",
   "pygments_lexer": "ipython3",
   "version": "3.6.5"
  }
 },
 "nbformat": 4,
 "nbformat_minor": 2
}
